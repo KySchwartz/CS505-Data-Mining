{
  "cells": [
    {
      "cell_type": "markdown",
      "metadata": {
        "id": "2mrd0YdPctEe"
      },
      "source": [
        "# Review Problems 1"
      ]
    },
    {
      "cell_type": "markdown",
      "metadata": {
        "id": "9vZql9-mclG1"
      },
      "source": [
        "**1)    Define the following metrics and perform the following operations**\n",
        "\n",
        "Matrix A =  [[ 3.7827  3.3454  3.2341]  , [ 2.2122  3.5678  3.9087] ,\n",
        "[1.1234  2.8934,  5.9087]].\n",
        "\n",
        "Matrix B =  [[ 3.1234  3.0987  3.1234]  , [ 2.1111  3.2222  3.3333] ,\n",
        "[1.0987  1.3456,  5.1234]].\n",
        "\n",
        "Matrix C =  [[ 3.1243  3.0989  3.1256 ]  , [ 2.6721  3.6785  3.9017] ,\n",
        "[1.1254  2.8956,  5.9187]]."
      ]
    },
    {
      "cell_type": "markdown",
      "metadata": {
        "id": "yjpELrVrdQ50"
      },
      "source": [
        "**i)    Write a Python program using Python Lists**"
      ]
    },
    {
      "cell_type": "code",
      "execution_count": null,
      "metadata": {
        "colab": {
          "base_uri": "https://localhost:8080/"
        },
        "id": "mtbG4Kn6dySU",
        "outputId": "36182dfe-4201-44b2-b6ef-2c5abe398a8c"
      },
      "outputs": [
        {
          "name": "stdout",
          "output_type": "stream",
          "text": [
            "Execution time: 0.011848 seconds\n"
          ]
        }
      ],
      "source": [
        "import timeit\n",
        "\n",
        "# Define 3 matrices\n",
        "def define_list():\n",
        "  matrix_a = [[ 3.7827, 3.3454, 3.2341] , [ 2.2122, 3.5678, 3.9087] , [1.1234, 2.8934, 5.9087]]\n",
        "\n",
        "  matrix_b = [[ 3.1234, 3.0987, 3.1234] , [ 2.1111, 3.2222, 3.3333] , [1.0987, 1.3456, 5.1234]]\n",
        "\n",
        "  matrix_c = [[ 3.1243, 3.0989, 3.1256] , [ 2.6721, 3.6785, 3.9017] , [1.1254, 2.8956, 5.9187]]\n",
        "\n",
        "# Output\n",
        "execution_time = timeit.timeit(define_list, number=10000)\n",
        "print(f\"Execution time: {execution_time:.6f} seconds\")"
      ]
    },
    {
      "cell_type": "markdown",
      "metadata": {
        "id": "Rxd0MvK_fqtC"
      },
      "source": [
        "**ii)   Write a Python program and NumPy**"
      ]
    },
    {
      "cell_type": "code",
      "execution_count": null,
      "metadata": {
        "colab": {
          "base_uri": "https://localhost:8080/"
        },
        "id": "HCuaXf2_f1Q4",
        "outputId": "bf200c18-67bb-4c30-8713-dd0aefdc811e"
      },
      "outputs": [
        {
          "name": "stdout",
          "output_type": "stream",
          "text": [
            "Execution time: 0.056453 seconds\n"
          ]
        }
      ],
      "source": [
        "import numpy as np\n",
        "import timeit\n",
        "\n",
        "# Define 3 Matrices\n",
        "def define_numpy_matrix():\n",
        "  matrix_a = np.array([[ 3.7827, 3.3454, 3.2341] , [ 2.2122, 3.5678, 3.9087] , [1.1234, 2.8934, 5.9087]])\n",
        "\n",
        "  matrix_b = np.array([[ 3.1234, 3.0987, 3.1234] , [ 2.1111, 3.2222, 3.3333] , [1.0987, 1.3456, 5.1234]])\n",
        "\n",
        "  matrix_c = np.array([[ 3.1243, 3.0989, 3.1256] , [ 2.6721, 3.6785, 3.9017] , [1.1254, 2.8956, 5.9187]])\n",
        "\n",
        "# Output\n",
        "execution_time = timeit.timeit(define_numpy_matrix, number=10000)\n",
        "print(f\"Execution time: {execution_time:.6f} seconds\")"
      ]
    },
    {
      "cell_type": "markdown",
      "metadata": {
        "id": "uzV1rD5_i2J9"
      },
      "source": [
        "**2)    Write a Python Program and perform the following operations.**\n",
        "\n",
        "I.  Create a List {1225, 4986, 6789, 7890, 2345, 6783, 0987, 1234, 8765, 3456}\n",
        "\n",
        "\n",
        "II. Iterate using a for loop\n",
        "\n",
        "\n",
        "III.    Iterate using for loop and range\n",
        "\n",
        "\n",
        "IV. List Comprehension\n",
        "\n",
        "\n",
        "V.  Enumerate\n",
        "\n",
        "\n",
        "VI. Iter function and next function\n",
        "\n",
        "\n",
        "VII.    Map function\n",
        "\n",
        "\n",
        "VIII.   Using zip\n",
        "\n",
        "\n",
        "IX. Using NumPy Module"
      ]
    },
    {
      "cell_type": "code",
      "execution_count": 57,
      "metadata": {
        "colab": {
          "base_uri": "https://localhost:8080/"
        },
        "id": "IVPizlFaQ-Pl",
        "outputId": "f41b6327-8b2e-426f-9e0c-32005ee386a6"
      },
      "outputs": [
        {
          "output_type": "stream",
          "name": "stdout",
          "text": [
            "Profile Data: \n",
            "loop: 0.026550 seconds\n",
            "\n",
            "loop_range: 0.032363 seconds\n",
            "\n",
            "comprehension: 0.017800 seconds\n",
            "\n",
            "enumerate_list: 0.007995 seconds\n",
            "\n",
            "iterate_next: 0.028800 seconds\n",
            "\n",
            "map_function: 0.013954 seconds\n",
            "\n",
            "zip_function: 0.009781 seconds\n",
            "\n",
            "numpy_module: 0.157608 seconds\n",
            "\n",
            "\n",
            "Output: \n",
            "create_list:\n",
            "[1225, 4986, 6789, 7890, 2345, 6783, 987, 1234, 8765, 3456]\n",
            "\n",
            "loop:\n",
            "[2450, 9972, 13578, 15780, 4690, 13566, 1974, 2468, 17530, 6912]\n",
            "\n",
            "loop_range:\n",
            "[2450, 9972, 13578, 15780, 4690, 13566, 1974, 2468, 17530, 6912]\n",
            "\n",
            "comprehension:\n",
            "[2450, 9972, 13578, 15780, 4690, 13566, 1974, 2468, 17530, 6912]\n",
            "\n",
            "enumerate_list:\n",
            "[(0, 1225), (1, 4986), (2, 6789), (3, 7890), (4, 2345), (5, 6783), (6, 987), (7, 1234), (8, 8765), (9, 3456)]\n",
            "\n",
            "iterate_next:\n",
            "[2450, 9972, 13578, 15780, 4690, 13566, 1974, 2468, 17530, 6912]\n",
            "\n",
            "map_function:\n",
            "[2450, 9972, 13578, 15780, 4690, 13566, 1974, 2468, 17530, 6912]\n",
            "\n",
            "zip_function:\n",
            "[(1225, 5), (4986, 10), (6789, 15), (7890, 20), (2345, 25), (6783, 30), (987, 35), (1234, 40), (8765, 45), (3456, 50)]\n",
            "\n",
            "define_numpy_array:\n",
            "[1225 4986 6789 7890 2345 6783  987 1234 8765 3456]\n",
            "\n",
            "numpy_module:\n",
            "[2450, 9972, 13578, 15780, 4690, 13566, 1974, 2468, 17530, 6912]\n"
          ]
        }
      ],
      "source": [
        "import numpy as np\n",
        "import timeit\n",
        "\n",
        "# Create a list to use with the functions\n",
        "def create_list():\n",
        "  # Create a list\n",
        "  lst = [1225, 4986, 6789, 7890, 2345, 6783, 987, 1234, 8765, 3456]\n",
        "  return lst\n",
        "\n",
        "# Use a for loop\n",
        "def loop(lst):\n",
        "  looped_list = []\n",
        "  for num in lst:\n",
        "    looped_list.append(double(num))\n",
        "  return looped_list\n",
        "\n",
        "# Use a for loop and range\n",
        "def loop_range(lst):\n",
        "  range_list = []\n",
        "  for num in range(len(lst)):\n",
        "    range_list.append(double(lst[num]))\n",
        "  return range_list\n",
        "\n",
        "# Use comprehension\n",
        "def comprehension(lst):\n",
        "  new_lst = [double(num) for num in lst]\n",
        "  return new_lst\n",
        "\n",
        "# Use enumerate\n",
        "def enumerate_list(lst):\n",
        "  enu_obj = enumerate(lst)\n",
        "  enu_list = list(enu_obj)\n",
        "  return enu_list\n",
        "\n",
        "# Use iter and next functions\n",
        "def iterate_next(lst):\n",
        "  iter_obj = iter(lst)\n",
        "\n",
        "  iter_list = []\n",
        "  while True:\n",
        "    try:\n",
        "        iter_list.append(double(next(iter_obj)))\n",
        "    except StopIteration:\n",
        "        break\n",
        "  return iter_list\n",
        "\n",
        "# Use map\n",
        "def map_function(lst):\n",
        "  map_list = list(map(double, lst))\n",
        "  return map_list\n",
        "\n",
        "# Use zip\n",
        "def zip_function(lst):\n",
        "  second_lst = [5, 10, 15, 20, 25, 30, 35, 40, 45, 50]\n",
        "  zip_list = zip(lst, second_lst)\n",
        "  list_list = list(zip_list)\n",
        "  return list_list\n",
        "\n",
        "# Define a NumPy array to use with the numpy module\n",
        "def define_numpy_array():\n",
        "  np_lst = np.array([1225, 4986, 6789, 7890, 2345, 6783, 987, 1234, 8765, 3456])\n",
        "  return np_lst\n",
        "\n",
        "# Use the NumPy module\n",
        "# The numpy module generally iterates through tuples not single elements in lists\n",
        "# The data from this program could not be accurate given the test settings\n",
        "# The nested loop slows the program\n",
        "def numpy_module(lst):\n",
        "  numpy_module_list = []\n",
        "  for x in np.nditer(lst):\n",
        "    for i in x:\n",
        "      numpy_module_list.append(double(i))\n",
        "  return numpy_module_list\n",
        "\n",
        "# Function is test list iterations by doubling each element\n",
        "def double(num):\n",
        "  return num*2\n",
        "\n",
        "if __name__ == \"__main__\":\n",
        "  print(\"Profile Data: \")\n",
        "\n",
        "  # Time each function\n",
        "  lst = create_list()\n",
        "  numpy_lst = define_numpy_array()\n",
        "\n",
        "  functions = [loop, loop_range, comprehension, enumerate_list,\n",
        "             iterate_next, map_function, zip_function, numpy_module]\n",
        "\n",
        "  for func in functions:\n",
        "    execution_time = timeit.timeit(lambda: func(lst), number=10000)\n",
        "    print(f\"{func.__name__}: {execution_time:.6f} seconds\")\n",
        "    print()\n",
        "  print()\n",
        "\n",
        "  # This code outputs the results of the functions to ensure they are outputting the correct results\n",
        "  print(\"Output: \")\n",
        "\n",
        "  lst = create_list()\n",
        "\n",
        "  print(\"create_list:\")\n",
        "  print(lst)\n",
        "\n",
        "  print(\"\\nloop:\")\n",
        "  print(loop(lst))\n",
        "\n",
        "  print(\"\\nloop_range:\")\n",
        "  print(loop_range(lst))\n",
        "\n",
        "  print(\"\\ncomprehension:\")\n",
        "  print(comprehension(lst))\n",
        "\n",
        "  print(\"\\nenumerate_list:\")\n",
        "  print(enumerate_list(lst))\n",
        "\n",
        "  print(\"\\niterate_next:\")\n",
        "  print(iterate_next(lst))\n",
        "\n",
        "  print(\"\\nmap_function:\")\n",
        "  print(map_function(lst))\n",
        "\n",
        "  print(\"\\nzip_function:\")\n",
        "  print(zip_function(lst))\n",
        "\n",
        "  numpy_lst = define_numpy_array()\n",
        "\n",
        "  print(\"\\ndefine_numpy_array:\")\n",
        "  print(numpy_lst)\n",
        "\n",
        "  print(\"\\nnumpy_module:\")\n",
        "  print(numpy_module(lst))"
      ]
    },
    {
      "cell_type": "markdown",
      "metadata": {
        "id": "gdRFPVZkkSJU"
      },
      "source": [
        "**3)    For a List A, B, C, D, E write a python program to compute all the combinations and permutations**"
      ]
    },
    {
      "cell_type": "code",
      "execution_count": 58,
      "metadata": {
        "colab": {
          "base_uri": "https://localhost:8080/"
        },
        "id": "i86o5No10iO5",
        "outputId": "f768a4b2-f9ed-48d0-acf0-745a1527f036"
      },
      "outputs": [
        {
          "output_type": "stream",
          "name": "stdout",
          "text": [
            "List:  ['A', 'B', 'C', 'D', 'E']\n",
            "\n",
            "Combinations: \n",
            " [[], ['A'], ['B'], ['A', 'B'], ['C'], ['A', 'C'], ['B', 'C'], ['A', 'B', 'C'], ['D'], ['A', 'D'], ['B', 'D'], ['A', 'B', 'D'], ['C', 'D'], ['A', 'C', 'D'], ['B', 'C', 'D'], ['A', 'B', 'C', 'D'], ['E'], ['A', 'E'], ['B', 'E'], ['A', 'B', 'E'], ['C', 'E'], ['A', 'C', 'E'], ['B', 'C', 'E'], ['A', 'B', 'C', 'E'], ['D', 'E'], ['A', 'D', 'E'], ['B', 'D', 'E'], ['A', 'B', 'D', 'E'], ['C', 'D', 'E'], ['A', 'C', 'D', 'E'], ['B', 'C', 'D', 'E'], ['A', 'B', 'C', 'D', 'E']]\n",
            "Total Combinations:  32\n",
            "Execution time: 0.099634 seconds\n",
            "\n",
            "Permutations: \n",
            " [['A', 'B', 'C', 'D', 'E'], ['A', 'B', 'C', 'E', 'D'], ['A', 'B', 'D', 'C', 'E'], ['A', 'B', 'D', 'E', 'C'], ['A', 'B', 'E', 'C', 'D'], ['A', 'B', 'E', 'D', 'C'], ['A', 'C', 'B', 'D', 'E'], ['A', 'C', 'B', 'E', 'D'], ['A', 'C', 'D', 'B', 'E'], ['A', 'C', 'D', 'E', 'B'], ['A', 'C', 'E', 'B', 'D'], ['A', 'C', 'E', 'D', 'B'], ['A', 'D', 'B', 'C', 'E'], ['A', 'D', 'B', 'E', 'C'], ['A', 'D', 'C', 'B', 'E'], ['A', 'D', 'C', 'E', 'B'], ['A', 'D', 'E', 'B', 'C'], ['A', 'D', 'E', 'C', 'B'], ['A', 'E', 'B', 'C', 'D'], ['A', 'E', 'B', 'D', 'C'], ['A', 'E', 'C', 'B', 'D'], ['A', 'E', 'C', 'D', 'B'], ['A', 'E', 'D', 'B', 'C'], ['A', 'E', 'D', 'C', 'B'], ['B', 'A', 'C', 'D', 'E'], ['B', 'A', 'C', 'E', 'D'], ['B', 'A', 'D', 'C', 'E'], ['B', 'A', 'D', 'E', 'C'], ['B', 'A', 'E', 'C', 'D'], ['B', 'A', 'E', 'D', 'C'], ['B', 'C', 'A', 'D', 'E'], ['B', 'C', 'A', 'E', 'D'], ['B', 'C', 'D', 'A', 'E'], ['B', 'C', 'D', 'E', 'A'], ['B', 'C', 'E', 'A', 'D'], ['B', 'C', 'E', 'D', 'A'], ['B', 'D', 'A', 'C', 'E'], ['B', 'D', 'A', 'E', 'C'], ['B', 'D', 'C', 'A', 'E'], ['B', 'D', 'C', 'E', 'A'], ['B', 'D', 'E', 'A', 'C'], ['B', 'D', 'E', 'C', 'A'], ['B', 'E', 'A', 'C', 'D'], ['B', 'E', 'A', 'D', 'C'], ['B', 'E', 'C', 'A', 'D'], ['B', 'E', 'C', 'D', 'A'], ['B', 'E', 'D', 'A', 'C'], ['B', 'E', 'D', 'C', 'A'], ['C', 'A', 'B', 'D', 'E'], ['C', 'A', 'B', 'E', 'D'], ['C', 'A', 'D', 'B', 'E'], ['C', 'A', 'D', 'E', 'B'], ['C', 'A', 'E', 'B', 'D'], ['C', 'A', 'E', 'D', 'B'], ['C', 'B', 'A', 'D', 'E'], ['C', 'B', 'A', 'E', 'D'], ['C', 'B', 'D', 'A', 'E'], ['C', 'B', 'D', 'E', 'A'], ['C', 'B', 'E', 'A', 'D'], ['C', 'B', 'E', 'D', 'A'], ['C', 'D', 'A', 'B', 'E'], ['C', 'D', 'A', 'E', 'B'], ['C', 'D', 'B', 'A', 'E'], ['C', 'D', 'B', 'E', 'A'], ['C', 'D', 'E', 'A', 'B'], ['C', 'D', 'E', 'B', 'A'], ['C', 'E', 'A', 'B', 'D'], ['C', 'E', 'A', 'D', 'B'], ['C', 'E', 'B', 'A', 'D'], ['C', 'E', 'B', 'D', 'A'], ['C', 'E', 'D', 'A', 'B'], ['C', 'E', 'D', 'B', 'A'], ['D', 'A', 'B', 'C', 'E'], ['D', 'A', 'B', 'E', 'C'], ['D', 'A', 'C', 'B', 'E'], ['D', 'A', 'C', 'E', 'B'], ['D', 'A', 'E', 'B', 'C'], ['D', 'A', 'E', 'C', 'B'], ['D', 'B', 'A', 'C', 'E'], ['D', 'B', 'A', 'E', 'C'], ['D', 'B', 'C', 'A', 'E'], ['D', 'B', 'C', 'E', 'A'], ['D', 'B', 'E', 'A', 'C'], ['D', 'B', 'E', 'C', 'A'], ['D', 'C', 'A', 'B', 'E'], ['D', 'C', 'A', 'E', 'B'], ['D', 'C', 'B', 'A', 'E'], ['D', 'C', 'B', 'E', 'A'], ['D', 'C', 'E', 'A', 'B'], ['D', 'C', 'E', 'B', 'A'], ['D', 'E', 'A', 'B', 'C'], ['D', 'E', 'A', 'C', 'B'], ['D', 'E', 'B', 'A', 'C'], ['D', 'E', 'B', 'C', 'A'], ['D', 'E', 'C', 'A', 'B'], ['D', 'E', 'C', 'B', 'A'], ['E', 'A', 'B', 'C', 'D'], ['E', 'A', 'B', 'D', 'C'], ['E', 'A', 'C', 'B', 'D'], ['E', 'A', 'C', 'D', 'B'], ['E', 'A', 'D', 'B', 'C'], ['E', 'A', 'D', 'C', 'B'], ['E', 'B', 'A', 'C', 'D'], ['E', 'B', 'A', 'D', 'C'], ['E', 'B', 'C', 'A', 'D'], ['E', 'B', 'C', 'D', 'A'], ['E', 'B', 'D', 'A', 'C'], ['E', 'B', 'D', 'C', 'A'], ['E', 'C', 'A', 'B', 'D'], ['E', 'C', 'A', 'D', 'B'], ['E', 'C', 'B', 'A', 'D'], ['E', 'C', 'B', 'D', 'A'], ['E', 'C', 'D', 'A', 'B'], ['E', 'C', 'D', 'B', 'A'], ['E', 'D', 'A', 'B', 'C'], ['E', 'D', 'A', 'C', 'B'], ['E', 'D', 'B', 'A', 'C'], ['E', 'D', 'B', 'C', 'A'], ['E', 'D', 'C', 'A', 'B'], ['E', 'D', 'C', 'B', 'A']]\n",
            "Total Permutations:  120\n",
            "Execution time: 4.328055 seconds\n",
            "\n"
          ]
        }
      ],
      "source": [
        "import timeit\n",
        "\n",
        "# The combinations and permutations functions were created using research from various websites for testing purposes\n",
        "def combinations(lst):\n",
        "  # Initialize a list with an empty subset\n",
        "  combinations = [[]]\n",
        "\n",
        "  for element in lst:\n",
        "    # For each existing combination, create a new combination that includes the current element\n",
        "    for sub_set in combinations.copy():\n",
        "        new_sub_set = sub_set + [element]\n",
        "        # Append the new combination to the list of combinations\n",
        "        combinations.append(new_sub_set)\n",
        "        combos = list(combinations)\n",
        "  return combos\n",
        "\n",
        "# This code uses the Heap's algorithmn found at https://www.geeksforgeeks.org/heaps-algorithm-for-generating-permutations/\n",
        "def permutations(lst):\n",
        "  if len(lst) == 0:\n",
        "    return [[]]\n",
        "\n",
        "  result = []\n",
        "  for i in range(len(lst)):\n",
        "    first = lst[i]\n",
        "    rest = lst[:i] + lst[i+1:]\n",
        "    for p in permutations(rest):\n",
        "      result.append([first] + p)\n",
        "  return result\n",
        "\n",
        "if __name__ == \"__main__\":\n",
        "  # Define a list\n",
        "  letter_list = ['A', 'B', 'C', 'D', 'E']\n",
        "\n",
        "  # Compute combinations\n",
        "  combos = combinations(letter_list)\n",
        "\n",
        "  # Compute permuatations\n",
        "  perms = permutations(letter_list)\n",
        "\n",
        "  # Output\n",
        "  print(\"List: \", letter_list)\n",
        "  print()\n",
        "\n",
        "  # Print combinations data\n",
        "  print(\"Combinations: \\n\", combos)\n",
        "  print(\"Total Combinations: \", len(combos))\n",
        "  execution_time = timeit.timeit(lambda: combinations(letter_list), number=10000)\n",
        "  print(f\"Execution time: {execution_time:.6f} seconds\")\n",
        "  print()\n",
        "\n",
        "  # Print permutations data\n",
        "  print(\"Permutations: \\n\", perms)\n",
        "  print(\"Total Permutations: \", len(perms))\n",
        "  execution_time = timeit.timeit(lambda: permutations(letter_list), number=10000)\n",
        "  print(f\"Execution time: {execution_time:.6f} seconds\")\n",
        "  print()"
      ]
    },
    {
      "cell_type": "markdown",
      "metadata": {
        "id": "B1v0UivZkknD"
      },
      "source": [
        "**4)    Using the same list use itertools compute permutations and combinations**"
      ]
    },
    {
      "cell_type": "code",
      "execution_count": 59,
      "metadata": {
        "colab": {
          "base_uri": "https://localhost:8080/"
        },
        "id": "BBQ5iGCsksuW",
        "outputId": "806cb49f-2807-45df-e845-b6264b1bf255"
      },
      "outputs": [
        {
          "output_type": "stream",
          "name": "stdout",
          "text": [
            "List:  ['A', 'B', 'C', 'D', 'E']\n",
            "\n",
            "Combinations: \n",
            " [[], ['A'], ['B'], ['C'], ['D'], ['E'], ['A', 'B'], ['A', 'C'], ['A', 'D'], ['A', 'E'], ['B', 'C'], ['B', 'D'], ['B', 'E'], ['C', 'D'], ['C', 'E'], ['D', 'E'], ['A', 'B', 'C'], ['A', 'B', 'D'], ['A', 'B', 'E'], ['A', 'C', 'D'], ['A', 'C', 'E'], ['A', 'D', 'E'], ['B', 'C', 'D'], ['B', 'C', 'E'], ['B', 'D', 'E'], ['C', 'D', 'E'], ['A', 'B', 'C', 'D'], ['A', 'B', 'C', 'E'], ['A', 'B', 'D', 'E'], ['A', 'C', 'D', 'E'], ['B', 'C', 'D', 'E'], ['A', 'B', 'C', 'D', 'E']]\n",
            "Total Combinations:  32\n",
            "Execution time: 0.076132 seconds\n",
            "\n",
            "Permutations: \n",
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n",
            "Total Permutations:  120\n",
            "Execution time: 0.075184 seconds\n",
            "\n"
          ]
        }
      ],
      "source": [
        "import itertools\n",
        "import timeit\n",
        "import cProfile\n",
        "import pstats\n",
        "\n",
        "def combinations(lst):\n",
        "  # Use intertools to compute combinations\n",
        "  total_combinations = []\n",
        "  for i in range(len(lst) + 1):\n",
        "    for combo in itertools.combinations(lst, i):\n",
        "      total_combinations.append(list(combo))\n",
        "  return total_combinations\n",
        "\n",
        "def permutations(lst):\n",
        "  # Use intertools  to compute permuatations\n",
        "  perms = list(itertools.permutations(letter_list, len(letter_list)))\n",
        "  return perms\n",
        "\n",
        "if __name__ == \"__main__\":\n",
        "  # Define a list\n",
        "  letter_list = ['A', 'B', 'C', 'D', 'E']\n",
        "\n",
        "  # Compute the combinations\n",
        "  total_combinations = combinations(letter_list)\n",
        "\n",
        "  # Calculate the total number of permutations\n",
        "  total_permutations = permutations(letter_list)\n",
        "\n",
        "  # Output\n",
        "  print(\"List: \", letter_list)\n",
        "  print()\n",
        "\n",
        "  # Output combinations data\n",
        "  print(\"Combinations: \\n\", total_combinations)\n",
        "  print(\"Total Combinations: \", len(total_combinations))\n",
        "  execution_time = timeit.timeit(lambda: combinations(letter_list), number=10000)\n",
        "  print(f\"Execution time: {execution_time:.6f} seconds\")\n",
        "  print()\n",
        "  # cProfile did not provide enough insight in this function to provide accurate data\n",
        "  # The function executed too quickly so I used timeit in these problems instead\n",
        "  # cProfile.run(\"combinations(letter_list)\")\n",
        "\n",
        "  # Output permutations data\n",
        "  print(\"Permutations: \\n\", total_permutations)\n",
        "  print(\"Total Permutations: \", len(total_permutations))\n",
        "  execution_time = timeit.timeit(lambda: permutations(letter_list), number=10000)\n",
        "  print(f\"Execution time: {execution_time:.6f} seconds\")\n",
        "  print()"
      ]
    },
    {
      "cell_type": "markdown",
      "source": [
        "# **Tests For Example Code From Emails**"
      ],
      "metadata": {
        "id": "91HV8z_DuyWB"
      }
    },
    {
      "cell_type": "markdown",
      "source": [
        "**Example 1**"
      ],
      "metadata": {
        "id": "lrp951bmuDC_"
      }
    },
    {
      "cell_type": "code",
      "execution_count": 41,
      "metadata": {
        "colab": {
          "base_uri": "https://localhost:8080/"
        },
        "id": "xhrMOwcjIVH3",
        "outputId": "d4cf358c-1c8b-4436-8519-3d98008bdd64"
      },
      "outputs": [
        {
          "output_type": "stream",
          "name": "stdout",
          "text": [
            "Execution time: 0.031033 seconds\n"
          ]
        }
      ],
      "source": [
        "import timeit\n",
        "\n",
        "def my_function():\n",
        "    a = [1, 2, 3, 4]\n",
        "    b = [i**2 for i in a]\n",
        "    return b\n",
        "\n",
        "execution_time = timeit.timeit(my_function, number=10000)\n",
        "print(f\"Execution time: {execution_time:.6f} seconds\")"
      ]
    },
    {
      "cell_type": "markdown",
      "source": [
        "**Example 2**"
      ],
      "metadata": {
        "id": "z0TPJI62ugLs"
      }
    },
    {
      "cell_type": "code",
      "execution_count": 42,
      "metadata": {
        "colab": {
          "base_uri": "https://localhost:8080/"
        },
        "id": "q_sLNTfYIiID",
        "outputId": "fae28da1-9c03-4b51-c18f-055b9a7007f1"
      },
      "outputs": [
        {
          "output_type": "stream",
          "name": "stdout",
          "text": [
            "         500004 function calls in 0.296 seconds\n",
            "\n",
            "   Ordered by: standard name\n",
            "\n",
            "   ncalls  tottime  percall  cumtime  percall filename:lineno(function)\n",
            "        1    0.247    0.247    0.290    0.290 <ipython-input-42-5437a6aa03f8>:3(my_function)\n",
            "        1    0.007    0.007    0.296    0.296 <string>:1(<module>)\n",
            "        1    0.000    0.000    0.296    0.296 {built-in method builtins.exec}\n",
            "   500000    0.042    0.000    0.042    0.000 {method 'append' of 'list' objects}\n",
            "        1    0.000    0.000    0.000    0.000 {method 'disable' of '_lsprof.Profiler' objects}\n",
            "\n",
            "\n"
          ]
        }
      ],
      "source": [
        "import cProfile\n",
        "\n",
        "def my_function():\n",
        "    b = []\n",
        "    for i in range(500000):\n",
        "        b.append(i**2)\n",
        "    return b\n",
        "\n",
        "cProfile.run(\"my_function()\")"
      ]
    },
    {
      "cell_type": "markdown",
      "source": [
        "**Example 3**"
      ],
      "metadata": {
        "id": "cz3_ubOVup7A"
      }
    },
    {
      "cell_type": "code",
      "source": [
        "import pstats\n",
        "import cProfile\n",
        "\n",
        "def my_function():\n",
        "    b = []\n",
        "    for i in range(500000):\n",
        "        b.append(i**2)\n",
        "    return b\n",
        "\n",
        "cProfile.run(\"my_function()\", \"my_func_stats\")\n",
        "\n",
        "p = pstats.Stats(\"my_func_stats\")\n",
        "p.sort_stats(\"cumulative\").print_stats()"
      ],
      "metadata": {
        "colab": {
          "base_uri": "https://localhost:8080/"
        },
        "id": "EaHhbK1UusNF",
        "outputId": "049250bf-e9dd-463b-a6f6-3f2226e0d747"
      },
      "execution_count": 43,
      "outputs": [
        {
          "output_type": "stream",
          "name": "stdout",
          "text": [
            "Tue Sep  3 16:32:27 2024    my_func_stats\n",
            "\n",
            "         500004 function calls in 0.297 seconds\n",
            "\n",
            "   Ordered by: cumulative time\n",
            "\n",
            "   ncalls  tottime  percall  cumtime  percall filename:lineno(function)\n",
            "        1    0.000    0.000    0.297    0.297 {built-in method builtins.exec}\n",
            "        1    0.006    0.006    0.297    0.297 <string>:1(<module>)\n",
            "        1    0.249    0.249    0.291    0.291 <ipython-input-43-219642a3cb67>:4(my_function)\n",
            "   500000    0.042    0.000    0.042    0.000 {method 'append' of 'list' objects}\n",
            "        1    0.000    0.000    0.000    0.000 {method 'disable' of '_lsprof.Profiler' objects}\n",
            "\n",
            "\n"
          ]
        },
        {
          "output_type": "execute_result",
          "data": {
            "text/plain": [
              "<pstats.Stats at 0x7a4f828a8ca0>"
            ]
          },
          "metadata": {},
          "execution_count": 43
        }
      ]
    }
  ],
  "metadata": {
    "colab": {
      "provenance": []
    },
    "kernelspec": {
      "display_name": "Python 3",
      "name": "python3"
    },
    "language_info": {
      "name": "python"
    }
  },
  "nbformat": 4,
  "nbformat_minor": 0
}